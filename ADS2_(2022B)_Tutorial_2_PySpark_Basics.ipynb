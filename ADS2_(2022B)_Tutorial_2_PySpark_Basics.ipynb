{
  "cells": [
    {
      "cell_type": "markdown",
      "metadata": {
        "id": "view-in-github",
        "colab_type": "text"
      },
      "source": [
        "<a href=\"https://colab.research.google.com/github/Covpet/Covpet/blob/main/ADS2_(2022B)_Tutorial_2_PySpark_Basics.ipynb\" target=\"_parent\"><img src=\"https://colab.research.google.com/assets/colab-badge.svg\" alt=\"Open In Colab\"/></a>"
      ]
    },
    {
      "cell_type": "markdown",
      "metadata": {
        "id": "ViQdeQ5m1E2Z"
      },
      "source": [
        "# ADS2 - Tutorial 2 - PySpark Basics\n",
        "Learning Outcomes:\n",
        "*   Importing data into Spark dataframes from .csv files\n",
        "*   Exploring and manipulating data tables with Spark SQL\n",
        "*   Write data to a file\n",
        "\n",
        "**Methods and Functions:**\n",
        "\n",
        "\n",
        "```\n",
        "spark\n",
        "    .read\n",
        "    .sql\n",
        "\n",
        "dataframe\n",
        "    .show()\n",
        "    .printSchema\n",
        "```\n",
        "\n",
        "\n",
        "\n",
        "To begin, colab doesn't come with PySpark available by default, you will need to run the filling blocks of code to install it.\n"
      ]
    },
    {
      "cell_type": "code",
      "source": [
        "from google.colab import drive\n",
        "drive.mount('/content/drive')"
      ],
      "metadata": {
        "id": "oMF6GzXgQ8KO",
        "colab": {
          "base_uri": "https://localhost:8080/"
        },
        "outputId": "b0d4bfae-d49a-4649-801e-f71c4f612691"
      },
      "execution_count": null,
      "outputs": [
        {
          "output_type": "stream",
          "name": "stdout",
          "text": [
            "Mounted at /content/drive\n"
          ]
        }
      ]
    },
    {
      "cell_type": "code",
      "execution_count": null,
      "metadata": {
        "id": "5lb-Z7ZM8O3s"
      },
      "outputs": [],
      "source": [
        "# Apache Spark uses Java, so first we must install that\n",
        "!apt-get install openjdk-8-jdk-headless -qq > /dev/null"
      ]
    },
    {
      "cell_type": "code",
      "execution_count": null,
      "metadata": {
        "id": "ixa72o938SKP"
      },
      "outputs": [],
      "source": [
        "# Unpack Spark from google drive\n",
        "!tar xzf /content/drive/MyDrive/spark-3.3.0-bin-hadoop3.tgz"
      ]
    },
    {
      "cell_type": "code",
      "execution_count": null,
      "metadata": {
        "id": "yWT7_XiQ8V6u"
      },
      "outputs": [],
      "source": [
        "# Set up environment variables\n",
        "import os\n",
        "os.environ[\"JAVA_HOME\"] = \"/usr/lib/jvm/java-8-openjdk-amd64\"\n",
        "os.environ[\"SPARK_HOME\"] = \"spark-3.3.0-bin-hadoop3\""
      ]
    },
    {
      "cell_type": "code",
      "execution_count": null,
      "metadata": {
        "id": "UPSvq-aj8Z_k"
      },
      "outputs": [],
      "source": [
        "# Install findspark, which helps python locate the psyspark module files\n",
        "!pip install -q findspark\n",
        "import findspark\n",
        "findspark.init()"
      ]
    },
    {
      "cell_type": "code",
      "execution_count": null,
      "metadata": {
        "id": "kXT8Q_IO8cVe"
      },
      "outputs": [],
      "source": [
        "# Finally, we initialse a \"SparkSession\", which handles the computations\n",
        "from pyspark.sql import SparkSession\n",
        "spark = SparkSession.builder\\\n",
        "        .master(\"local\")\\\n",
        "        .appName(\"Colab\")\\\n",
        "        .config('spark.ui.port', '4050')\\\n",
        "        .getOrCreate()"
      ]
    },
    {
      "cell_type": "markdown",
      "metadata": {
        "id": "N61alIq17Q4i"
      },
      "source": [
        "# Exercise 1\n",
        "\n",
        "for this tutorial, you will explore a dataset of house price data from California. The .csv for this data is available on canvas, as well as from [Kaggle](https://www.kaggle.com/camnugent/california-housing-prices).\n",
        "\n",
        " * longitude\n",
        " * latitude\n",
        " * housing_median_age\n",
        " * total_rooms\n",
        " * total_bedrooms\n",
        " * population\n",
        " * households\n",
        " * median_income\n",
        " * median_house_value\n",
        " * ocean_proximity\n",
        "\n",
        "Download the data, then upload it in the files panel on the left of the colab window. You can copy the path to this file by right-clicking it after it's uploaded.\n",
        "\n",
        "Begin by loading the dataset into a Spark DataFrame. Certain options can to be set using the `.read.option(key, value)` methods. A full list of the options for .CSV files can be found here: [CSV Files](https://spark.apache.org/docs/latest/sql-data-sources-csv.html). Set the sperator option to commas, and the header option to True.\n",
        "\n",
        "Finally, you need to tell the Reader where the .csv file is.\n",
        "\n",
        "When the file is loaded, show the first 5 rows of the data and print the schema."
      ]
    },
    {
      "cell_type": "code",
      "execution_count": null,
      "metadata": {
        "id": "I7PS8iZgqwjt",
        "colab": {
          "base_uri": "https://localhost:8080/"
        },
        "outputId": "5c69e695-5527-4871-dca3-3cf4fe817b0f"
      },
      "outputs": [
        {
          "output_type": "stream",
          "name": "stdout",
          "text": [
            "+---------+--------+------------------+-----------+--------------+----------+----------+-------------+------------------+---------------+\n",
            "|longitude|latitude|housing_median_age|total_rooms|total_bedrooms|population|households|median_income|median_house_value|ocean_proximity|\n",
            "+---------+--------+------------------+-----------+--------------+----------+----------+-------------+------------------+---------------+\n",
            "|  -122.23|   37.88|              41.0|      880.0|         129.0|     322.0|     126.0|       8.3252|          452600.0|       NEAR BAY|\n",
            "|  -122.22|   37.86|              21.0|     7099.0|        1106.0|    2401.0|    1138.0|       8.3014|          358500.0|       NEAR BAY|\n",
            "|  -122.24|   37.85|              52.0|     1467.0|         190.0|     496.0|     177.0|       7.2574|          352100.0|       NEAR BAY|\n",
            "|  -122.25|   37.85|              52.0|     1274.0|         235.0|     558.0|     219.0|       5.6431|          341300.0|       NEAR BAY|\n",
            "|  -122.25|   37.85|              52.0|     1627.0|         280.0|     565.0|     259.0|       3.8462|          342200.0|       NEAR BAY|\n",
            "+---------+--------+------------------+-----------+--------------+----------+----------+-------------+------------------+---------------+\n",
            "only showing top 5 rows\n",
            "\n",
            "root\n",
            " |-- longitude: string (nullable = true)\n",
            " |-- latitude: string (nullable = true)\n",
            " |-- housing_median_age: string (nullable = true)\n",
            " |-- total_rooms: string (nullable = true)\n",
            " |-- total_bedrooms: string (nullable = true)\n",
            " |-- population: string (nullable = true)\n",
            " |-- households: string (nullable = true)\n",
            " |-- median_income: string (nullable = true)\n",
            " |-- median_house_value: string (nullable = true)\n",
            " |-- ocean_proximity: string (nullable = true)\n",
            "\n"
          ]
        }
      ],
      "source": [
        "### Load the California Housing Prices Dataset\n",
        "# .read, .option, .csv\n",
        "csvpath = '/content/housing.csv'\n",
        "\n",
        "housingdf= spark.read.csv(csvpath, header=True)\n",
        "#print(housingdf.schema)\n",
        "\n",
        "# Show the first 5 rows of data and print the schema\n",
        "show_rows= 5\n",
        "\n",
        "### Show the first 5 rows of data and print the schema\n",
        "# .show, .printSchema\n",
        "housingdf.show(show_rows)\n",
        "housingdf.printSchema()\n",
        "\n"
      ]
    },
    {
      "cell_type": "markdown",
      "metadata": {
        "id": "j0B-nVXBnZK-"
      },
      "source": [
        "The Schema is the database blueprint which specifies the column name, data type, whether the field is nullable, and any extra metadata. In PySpark, these are StructTypes and StructFields. You should have found that the DataFrame you loaded has only strings as the datatypes. This isn't useful for numerical data. fortunately, there are a number of ways to set the schema of a DataFrame when you load it.\n",
        "\n",
        "The first, and simplest way, is to set the `inferSchema` option to `True` in the read call. Reload the DataFrame with this option set, and preint the schema."
      ]
    },
    {
      "cell_type": "code",
      "execution_count": null,
      "metadata": {
        "id": "MQVtn8KcmQ69",
        "colab": {
          "base_uri": "https://localhost:8080/"
        },
        "outputId": "67b5913d-c9ca-4162-8646-86a26294142a"
      },
      "outputs": [
        {
          "output_type": "stream",
          "name": "stdout",
          "text": [
            "+---------+--------+------------------+-----------+--------------+----------+----------+-------------+------------------+---------------+\n",
            "|longitude|latitude|housing_median_age|total_rooms|total_bedrooms|population|households|median_income|median_house_value|ocean_proximity|\n",
            "+---------+--------+------------------+-----------+--------------+----------+----------+-------------+------------------+---------------+\n",
            "|  -122.23|   37.88|              41.0|      880.0|         129.0|     322.0|     126.0|       8.3252|          452600.0|       NEAR BAY|\n",
            "|  -122.22|   37.86|              21.0|     7099.0|        1106.0|    2401.0|    1138.0|       8.3014|          358500.0|       NEAR BAY|\n",
            "|  -122.24|   37.85|              52.0|     1467.0|         190.0|     496.0|     177.0|       7.2574|          352100.0|       NEAR BAY|\n",
            "|  -122.25|   37.85|              52.0|     1274.0|         235.0|     558.0|     219.0|       5.6431|          341300.0|       NEAR BAY|\n",
            "|  -122.25|   37.85|              52.0|     1627.0|         280.0|     565.0|     259.0|       3.8462|          342200.0|       NEAR BAY|\n",
            "+---------+--------+------------------+-----------+--------------+----------+----------+-------------+------------------+---------------+\n",
            "only showing top 5 rows\n",
            "\n",
            "root\n",
            " |-- longitude: double (nullable = true)\n",
            " |-- latitude: double (nullable = true)\n",
            " |-- housing_median_age: double (nullable = true)\n",
            " |-- total_rooms: double (nullable = true)\n",
            " |-- total_bedrooms: double (nullable = true)\n",
            " |-- population: double (nullable = true)\n",
            " |-- households: double (nullable = true)\n",
            " |-- median_income: double (nullable = true)\n",
            " |-- median_house_value: double (nullable = true)\n",
            " |-- ocean_proximity: string (nullable = true)\n",
            "\n"
          ]
        }
      ],
      "source": [
        "### Load the DataFrame again, this time with the inferSchema option enabled\n",
        "housingDf= spark.read.csv(csvpath, header=True, inferSchema=True)\n",
        "show_rows= 5\n",
        "\n",
        "housingDf.show(show_rows)\n",
        "housingDf.printSchema()\n",
        "\n",
        "\n"
      ]
    },
    {
      "cell_type": "markdown",
      "metadata": {
        "id": "suolICfLo7rU"
      },
      "source": [
        "For very large tables, inferring the schema can be computationally costly, as PySpark must run an additional pass over the dataset. Instead, you can set predefined schema. One way to do this is by defining a StructType, with a list individual StructFields for each column.\n",
        "\n",
        "```\n",
        "schema = StructType([StructField_1, StructField_2, ...])\n",
        "```\n",
        "\n",
        "The first StructField is provided below, complete the list for all the columns in the dataset.\n",
        "\n",
        "Reload the DataFrame, this time replacing the inferSchema `.option()` call, with `.schema(userDefinedSchema)`. Print the new schema and check that it is correct"
      ]
    },
    {
      "cell_type": "code",
      "execution_count": null,
      "metadata": {
        "id": "jXdVXii-p5lg",
        "colab": {
          "base_uri": "https://localhost:8080/"
        },
        "outputId": "d549af1d-a053-475b-bb50-2c72135b34a1"
      },
      "outputs": [
        {
          "output_type": "stream",
          "name": "stdout",
          "text": [
            "+---------+--------+------------------+-----------+--------------+----------+----------+-------------+------------------+---------------+\n",
            "|longitude|latitude|housing_median_age|total_rooms|total_bedrooms|population|households|median_income|median_house_value|ocean_proximity|\n",
            "+---------+--------+------------------+-----------+--------------+----------+----------+-------------+------------------+---------------+\n",
            "|  -122.23|   37.88|              41.0|      880.0|         129.0|     322.0|     126.0|       8.3252|          452600.0|       NEAR BAY|\n",
            "|  -122.22|   37.86|              21.0|     7099.0|        1106.0|    2401.0|    1138.0|       8.3014|          358500.0|       NEAR BAY|\n",
            "|  -122.24|   37.85|              52.0|     1467.0|         190.0|     496.0|     177.0|       7.2574|          352100.0|       NEAR BAY|\n",
            "|  -122.25|   37.85|              52.0|     1274.0|         235.0|     558.0|     219.0|       5.6431|          341300.0|       NEAR BAY|\n",
            "|  -122.25|   37.85|              52.0|     1627.0|         280.0|     565.0|     259.0|       3.8462|          342200.0|       NEAR BAY|\n",
            "+---------+--------+------------------+-----------+--------------+----------+----------+-------------+------------------+---------------+\n",
            "only showing top 5 rows\n",
            "\n",
            "root\n",
            " |-- longitude: double (nullable = true)\n",
            " |-- latitude: double (nullable = true)\n",
            " |-- housing_median_age: double (nullable = true)\n",
            " |-- total_rooms: double (nullable = true)\n",
            " |-- total_bedrooms: double (nullable = true)\n",
            " |-- population: double (nullable = true)\n",
            " |-- households: double (nullable = true)\n",
            " |-- median_income: double (nullable = true)\n",
            " |-- median_house_value: double (nullable = true)\n",
            " |-- ocean_proximity: string (nullable = true)\n",
            "\n"
          ]
        }
      ],
      "source": [
        "### Load the DataFrame using a schema define with StructType and StructField\n",
        "from pyspark.sql.types import DoubleType, StringType, StructType, StructField\n",
        "\n",
        "# Complete the schema\n",
        "schema = StructType([\n",
        "    StructField('longitude', DoubleType(), True),\n",
        "    StructField('latitude', DoubleType(), True),\n",
        "    StructField('housing_median_age', DoubleType(), True),\n",
        "    StructField('total_rooms', DoubleType(), True),\n",
        "    StructField('total_bedrooms', DoubleType(), True),\n",
        "    StructField('population', DoubleType(), True),\n",
        "    StructField('households', DoubleType(), True),\n",
        "    StructField('median_income', DoubleType(), True),\n",
        "    StructField('median_house_value', DoubleType(), True),\n",
        "    StructField('ocean_proximity', StringType(), True)\n",
        "])\n",
        "\n",
        "### Reload the DataFrame with the new schema, then printSchema to check it\n",
        "housingDf= spark.read.csv(csvpath, header=True, schema=schema, sep=',')\n",
        "show_rows= 5\n",
        "\n",
        "housingDf.show(show_rows)\n",
        "housingDf.printSchema()\n",
        "\n",
        "# .schema\n",
        "# Load .csv with header, user defined schema and ',' seperators\n",
        "# Show the first 5 rows of data and print the schema\n"
      ]
    },
    {
      "cell_type": "markdown",
      "metadata": {
        "id": "Hw1i5n_HvRv9"
      },
      "source": [
        "Finally, you can define the schema with a DDL (Data Definition Language) string. In this case, the string defines each column name and data type pair, and can be fed into the same `.schema()` method as before. Try this now, and print the schema."
      ]
    },
    {
      "cell_type": "code",
      "execution_count": null,
      "metadata": {
        "id": "cbFn8dcdv0QP",
        "colab": {
          "base_uri": "https://localhost:8080/"
        },
        "outputId": "50dd95a4-f688-4344-d996-1b3014870d17"
      },
      "outputs": [
        {
          "output_type": "stream",
          "name": "stdout",
          "text": [
            "+---------+--------+------------------+-----------+--------------+----------+----------+-------------+------------------+---------------+\n",
            "|longitude|latitude|housing_median_age|total_rooms|total_bedrooms|population|households|median_income|median_house_value|ocean_proximity|\n",
            "+---------+--------+------------------+-----------+--------------+----------+----------+-------------+------------------+---------------+\n",
            "|  -122.23|   37.88|              41.0|      880.0|         129.0|     322.0|     126.0|       8.3252|          452600.0|       NEAR BAY|\n",
            "|  -122.22|   37.86|              21.0|     7099.0|        1106.0|    2401.0|    1138.0|       8.3014|          358500.0|       NEAR BAY|\n",
            "|  -122.24|   37.85|              52.0|     1467.0|         190.0|     496.0|     177.0|       7.2574|          352100.0|       NEAR BAY|\n",
            "|  -122.25|   37.85|              52.0|     1274.0|         235.0|     558.0|     219.0|       5.6431|          341300.0|       NEAR BAY|\n",
            "|  -122.25|   37.85|              52.0|     1627.0|         280.0|     565.0|     259.0|       3.8462|          342200.0|       NEAR BAY|\n",
            "+---------+--------+------------------+-----------+--------------+----------+----------+-------------+------------------+---------------+\n",
            "only showing top 5 rows\n",
            "\n",
            "root\n",
            " |-- longitude: double (nullable = true)\n",
            " |-- latitude: double (nullable = true)\n",
            " |-- housing_median_age: double (nullable = true)\n",
            " |-- total_rooms: double (nullable = true)\n",
            " |-- total_bedrooms: double (nullable = true)\n",
            " |-- population: double (nullable = true)\n",
            " |-- households: double (nullable = true)\n",
            " |-- median_income: double (nullable = true)\n",
            " |-- median_house_value: double (nullable = true)\n",
            " |-- ocean_proximity: string (nullable = true)\n",
            "\n"
          ]
        }
      ],
      "source": [
        "### Load the DataFrame using a DLL string formatted schema\n",
        "DDLSchema = \"longitude double, latitude double, housing_median_age double, total_rooms double, total_bedrooms double, population double, households double, median_income double, median_house_value double, ocean_proximity string\"\n",
        "### Reload the DataFrame with the new schema, then printSchema to check it\n",
        "housingDf= spark.read.csv(csvpath, header=True, schema=DDLSchema)\n",
        "show_rows= 5\n",
        "\n",
        "housingDf.show(show_rows)\n",
        "housingDf.printSchema()\n"
      ]
    },
    {
      "cell_type": "markdown",
      "metadata": {
        "id": "RX9WLn8awyqA"
      },
      "source": [
        "# Exercise 2\n",
        "\n",
        "To save data stored in a DataFrame, use the `.write` method. you can save your data to a number of formats with PySpark. In addition to saving the data as a new .csv, popular formats include [Parquet files](https://parquet.apache.org/documentation/latest/) and JSON files.\n",
        "\n",
        "Save your DataFrame as a .csv, .parquet, and .JSON file. For the parquet file, set the `.option()` `'compression', 'snappy'`. For the csv file, set the `'header', 'True'`, and `'delimeter', ','`."
      ]
    },
    {
      "cell_type": "code",
      "execution_count": null,
      "metadata": {
        "id": "mr9LrWzFzRn6"
      },
      "outputs": [],
      "source": [
        "### Save the DataFrame as a .csv, .parquet and .JSON\n",
        "# .write, .option, .csv, .parquet, .json\n",
        "csvpath= '/content/housing2.csv'\n",
        "parquetpath= '/content/housing.parquet'\n",
        "jsonpath= '/content/housing.json'\n",
        "\n",
        "housingDf.write.option('header', 'True').option('sep', ',').csv(csvpath)\n",
        "housingDf.write.option('compression', 'snappy').parquet(parquetpath)\n",
        "housingDf.write.json(jsonpath)\n"
      ]
    },
    {
      "cell_type": "markdown",
      "metadata": {
        "id": "IPNHnwNX3b_9"
      },
      "source": [
        "An alternative way to save the DataFrame is to specify the `.format()` of the file and use the `.save()` method. Repeat the previous oiperations, but this time use the `.format('string')` method, the `.mode('overwrite')` method, and the `.save('/path/to/file') method."
      ]
    },
    {
      "cell_type": "code",
      "execution_count": null,
      "metadata": {
        "id": "fhpe1E9h4Y4W"
      },
      "outputs": [],
      "source": [
        "### Use the .save() method to save the DataFrame as a .csv, .parquet and .JSON\n",
        "# .write, .format, .option, .mode, .save\n",
        "\n",
        "housingDf.write.format('csv').option('header', 'True').option('sep', ',').mode('overwrite').save(csvpath)\n",
        "housingDf.write.format('parquet').option('compression', 'snappy').mode('overwrite').save(parquetpath)\n",
        "housingDf.write.format('json').mode('overwrite').save(jsonpath)\n"
      ]
    },
    {
      "cell_type": "markdown",
      "metadata": {
        "id": "9zbIa7bq5bZ3"
      },
      "source": [
        "# Exercise 3\n",
        "\n",
        "DataFrames can be manipulated using the built-in SQL API. The methods can be used to select columns from the DataFrame, apply filters and masks, sort, or group data, and much more. In this exercise, you will need the following methods:\n",
        "\n",
        "\n",
        "\n",
        "```\n",
        ".select() # one or more column names\n",
        ".where() # boolean expression\n",
        ".groupBy() # column name\n",
        ".count()\n",
        ".orderBy() # column name, ascending=True/False\n",
        "```\n",
        "\n",
        "The SQL operations aren't evaluated immediately, and return a new dataframe. By appending `.show()`, you can trigger the calculation and display the new dataframe."
      ]
    },
    {
      "cell_type": "code",
      "execution_count": null,
      "metadata": {
        "id": "24N0vxtn6d7x",
        "colab": {
          "base_uri": "https://localhost:8080/"
        },
        "outputId": "f0512eef-5de1-42c1-c79f-830cc0c3ae82"
      },
      "outputs": [
        {
          "output_type": "stream",
          "name": "stdout",
          "text": [
            "+-------------+------------------+\n",
            "|median_income|median_house_value|\n",
            "+-------------+------------------+\n",
            "|       0.4999|          500001.0|\n",
            "|       0.4999|           55000.0|\n",
            "|       0.4999|           90600.0|\n",
            "|       0.4999|           73500.0|\n",
            "|       0.4999|          112500.0|\n",
            "+-------------+------------------+\n",
            "only showing top 5 rows\n",
            "\n",
            "+-------------+------------------+\n",
            "|median_income|median_house_value|\n",
            "+-------------+------------------+\n",
            "|       0.4999|          500001.0|\n",
            "|       0.4999|           55000.0|\n",
            "|       0.4999|           90600.0|\n",
            "|       0.4999|           73500.0|\n",
            "|       0.4999|          112500.0|\n",
            "+-------------+------------------+\n",
            "only showing top 5 rows\n",
            "\n"
          ]
        }
      ],
      "source": [
        "### Example: Select the median income and house value columns, sort by income\n",
        "# .select, .orderBy/.sort\n",
        "\n",
        "housingDf.select('median_income', 'median_house_value').orderBy('median_income').show(5)\n",
        "housingDf.select('median_income', 'median_house_value').sort('median_income').show(5)\n",
        "\n"
      ]
    },
    {
      "cell_type": "code",
      "execution_count": null,
      "metadata": {
        "id": "KLG7baDY8bHk",
        "colab": {
          "base_uri": "https://localhost:8080/"
        },
        "outputId": "1780b219-7b59-4db9-b02a-329eac826c9c"
      },
      "outputs": [
        {
          "output_type": "stream",
          "name": "stdout",
          "text": [
            "+------------------+------------------+\n",
            "|housing_median_age|median_house_value|\n",
            "+------------------+------------------+\n",
            "|              11.0|          118800.0|\n",
            "|               3.0|          153700.0|\n",
            "|               4.0|          366300.0|\n",
            "|              21.0|          500001.0|\n",
            "|               8.0|          253900.0|\n",
            "+------------------+------------------+\n",
            "only showing top 5 rows\n",
            "\n"
          ]
        }
      ],
      "source": [
        "### Select the median house age and house value columns and order by total\n",
        "### bedrooms in descending order\n",
        "# .select, .orderBy/.sort\n",
        "\n",
        "housingDf.select('housing_median_age', 'median_house_value').orderBy('total_bedrooms', ascending=False).show(5)\n"
      ]
    },
    {
      "cell_type": "code",
      "execution_count": null,
      "metadata": {
        "id": "HL2UnexC9HFb",
        "colab": {
          "base_uri": "https://localhost:8080/"
        },
        "outputId": "078545ee-f261-4a17-bf75-01b6730a9849"
      },
      "outputs": [
        {
          "output_type": "stream",
          "name": "stdout",
          "text": [
            "+-------------+------------------+\n",
            "|median_income|median_house_value|\n",
            "+-------------+------------------+\n",
            "|       8.3252|          452600.0|\n",
            "|       8.3014|          358500.0|\n",
            "|       7.2574|          352100.0|\n",
            "|       5.6431|          341300.0|\n",
            "|       3.8462|          342200.0|\n",
            "+-------------+------------------+\n",
            "only showing top 5 rows\n",
            "\n"
          ]
        }
      ],
      "source": [
        "### Select median income and house value, where ocean proximity is NEAR_BAY\n",
        "# .select, .filter/.where\n",
        "housingDf.select('median_income', 'median_house_value').filter(housingDf.ocean_proximity == \"NEAR BAY\").show(5)\n"
      ]
    },
    {
      "cell_type": "code",
      "execution_count": null,
      "metadata": {
        "id": "V2DfwkZ89Ne-",
        "colab": {
          "base_uri": "https://localhost:8080/"
        },
        "outputId": "46d5f4be-4eca-4ebb-f05b-9bc66eb4444f"
      },
      "outputs": [
        {
          "output_type": "execute_result",
          "data": {
            "text/plain": [
              "18660"
            ]
          },
          "metadata": {},
          "execution_count": 58
        }
      ],
      "source": [
        "### Count the number of entries where population > 500\n",
        "# .filter/.where, .count\n",
        "housingDf.filter('population > 500').count()\n",
        "\n"
      ]
    },
    {
      "cell_type": "code",
      "execution_count": null,
      "metadata": {
        "id": "DAMcfqMv_Cop",
        "colab": {
          "base_uri": "https://localhost:8080/"
        },
        "outputId": "aa4eeaf1-5851-4530-cd5e-9cea6a25f456"
      },
      "outputs": [
        {
          "output_type": "stream",
          "name": "stdout",
          "text": [
            "+---------------+-----+\n",
            "|ocean_proximity|count|\n",
            "+---------------+-----+\n",
            "|         ISLAND|    5|\n",
            "|     NEAR OCEAN| 2658|\n",
            "|       NEAR BAY| 2290|\n",
            "|      <1H OCEAN| 9136|\n",
            "|         INLAND| 6551|\n",
            "+---------------+-----+\n",
            "\n"
          ]
        }
      ],
      "source": [
        "### Group by ocean proximity and count the number of entries in each category\n",
        "# .groupBy, .count\n",
        "housingDf.groupBy('ocean_proximity').count().show()\n"
      ]
    },
    {
      "cell_type": "markdown",
      "metadata": {
        "id": "rCoh7eNEXAaI"
      },
      "source": [
        "# Exercise 4\n",
        "\n",
        "The `Column` class is another way to access and manipulate the data within the DataFrame. You can use Columns to form complex expressions, such as:\n",
        "```\n",
        "col('total_bedrooms') / col('total_rooms')\n",
        "col('median_house_value').desc()\n",
        "(col('median_income')*1000).cast('int')\n",
        "```\n",
        "For the following tasks, use Column objects in the DataFrame transformations. Create a new DataFrame for each task, and show the contents."
      ]
    },
    {
      "cell_type": "code",
      "execution_count": null,
      "metadata": {
        "id": "I2xAqRybXHac",
        "colab": {
          "base_uri": "https://localhost:8080/"
        },
        "outputId": "03a59a01-a5db-4300-f9ae-d07d34690672"
      },
      "outputs": [
        {
          "output_type": "stream",
          "name": "stdout",
          "text": [
            "+---------+--------+------------------+-----------+--------------+----------+----------+-------------+------------------+---------------+-------------------+\n",
            "|longitude|latitude|housing_median_age|total_rooms|total_bedrooms|population|households|median_income|median_house_value|ocean_proximity|    bed_room_ration|\n",
            "+---------+--------+------------------+-----------+--------------+----------+----------+-------------+------------------+---------------+-------------------+\n",
            "|  -122.22|   37.82|              42.0|     2991.0|         335.0|    1018.0|     335.0|       13.499|          500001.0|       NEAR BAY|0.11200267469073888|\n",
            "|  -121.93|   37.66|              24.0|     3166.0|         424.0|    1081.0|     400.0|       8.3337|          500001.0|      <1H OCEAN|0.13392293114339862|\n",
            "|  -122.23|   37.82|              52.0|     3242.0|         366.0|    1001.0|     352.0|      12.2138|          500001.0|       NEAR BAY|0.11289327575570636|\n",
            "|  -122.25|   37.87|              52.0|      609.0|         236.0|    1349.0|     250.0|       1.1696|          500001.0|       NEAR BAY|0.38752052545155996|\n",
            "|  -122.23|   37.82|              52.0|     3494.0|         396.0|    1192.0|     383.0|      12.3804|          500001.0|       NEAR BAY|0.11333714939896966|\n",
            "+---------+--------+------------------+-----------+--------------+----------+----------+-------------+------------------+---------------+-------------------+\n",
            "only showing top 5 rows\n",
            "\n"
          ]
        }
      ],
      "source": [
        "### Example: Create a DataFrame with only rows where population > 500, include\n",
        "### a column with the number of bedrooms / total number of rooms, and sort by\n",
        "### descending house value\n",
        "Newdf= housingDf.filter('population > 500')\n",
        "# col, .filter/.where, withColumn, .orderBy/.sort, desc\n",
        "from pyspark.sql.functions import col\n",
        "\n",
        "# Column expression to calculate ratio of bedrooms and rooms\n",
        "bed_room_ratio = col('total_bedrooms') / col('total_rooms')\n",
        "Newdf= Newdf.withColumn('bed_room_ration', bed_room_ratio)\n",
        "Newdf= Newdf.orderBy('median_house_value', ascending=False)\n",
        "Newdf.show(5)\n",
        "\n",
        "# Filter by population, add new column, sort DF\n"
      ]
    },
    {
      "cell_type": "code",
      "execution_count": null,
      "metadata": {
        "id": "LE71Ydh-Y53d",
        "colab": {
          "base_uri": "https://localhost:8080/"
        },
        "outputId": "fa83bdc3-5fb8-4cd8-c08f-d005cba80af5"
      },
      "outputs": [
        {
          "output_type": "stream",
          "name": "stdout",
          "text": [
            "+----------+------------------+\n",
            "|population|median_house_value|\n",
            "+----------+------------------+\n",
            "|      94.0|           60000.0|\n",
            "|     762.0|          177500.0|\n",
            "|     721.0|          108300.0|\n",
            "|     609.0|          162500.0|\n",
            "|     546.0|          162500.0|\n",
            "+----------+------------------+\n",
            "only showing top 5 rows\n",
            "\n"
          ]
        }
      ],
      "source": [
        "### Select the population and median house value where\n",
        "### the median house age is < 20, store the result as a new DataFrame\n",
        "# col, .select, .where\n",
        "\n",
        "pop_col= col('population')\n",
        "med_house_col= col('median_house_value')\n",
        "housingDf.select(pop_col, med_house_col).where(col('housing_median_age') < 20).show(5)"
      ]
    },
    {
      "cell_type": "code",
      "execution_count": null,
      "metadata": {
        "id": "0C1IR2g9Zz07",
        "colab": {
          "base_uri": "https://localhost:8080/"
        },
        "outputId": "1d00fa99-d9dc-4efc-cef4-44911ed8e949"
      },
      "outputs": [
        {
          "output_type": "stream",
          "name": "stdout",
          "text": [
            "+---------+--------+------------------+-----------+--------------+----------+----------+-------------+------------------+\n",
            "|longitude|latitude|housing_median_age|total_rooms|total_bedrooms|population|households|median_income|median_house_value|\n",
            "+---------+--------+------------------+-----------+--------------+----------+----------+-------------+------------------+\n",
            "|  -122.23|   37.88|              41.0|      880.0|         129.0|     322.0|     126.0|       8.3252|          452600.0|\n",
            "|  -122.22|   37.86|              21.0|     7099.0|        1106.0|    2401.0|    1138.0|       8.3014|          358500.0|\n",
            "|  -122.24|   37.85|              52.0|     1467.0|         190.0|     496.0|     177.0|       7.2574|          352100.0|\n",
            "|  -122.25|   37.85|              52.0|     1274.0|         235.0|     558.0|     219.0|       5.6431|          341300.0|\n",
            "|  -122.25|   37.85|              52.0|     1627.0|         280.0|     565.0|     259.0|       3.8462|          342200.0|\n",
            "|  -122.25|   37.85|              52.0|      919.0|         213.0|     413.0|     193.0|       4.0368|          269700.0|\n",
            "|  -122.25|   37.84|              52.0|     2535.0|         489.0|    1094.0|     514.0|       3.6591|          299200.0|\n",
            "|  -122.25|   37.84|              52.0|     3104.0|         687.0|    1157.0|     647.0|         3.12|          241400.0|\n",
            "|  -122.26|   37.84|              42.0|     2555.0|         665.0|    1206.0|     595.0|       2.0804|          226700.0|\n",
            "|  -122.25|   37.84|              52.0|     3549.0|         707.0|    1551.0|     714.0|       3.6912|          261100.0|\n",
            "|  -122.26|   37.85|              52.0|     2202.0|         434.0|     910.0|     402.0|       3.2031|          281500.0|\n",
            "|  -122.26|   37.85|              52.0|     3503.0|         752.0|    1504.0|     734.0|       3.2705|          241800.0|\n",
            "|  -122.26|   37.85|              52.0|     2491.0|         474.0|    1098.0|     468.0|        3.075|          213500.0|\n",
            "|  -122.26|   37.84|              52.0|      696.0|         191.0|     345.0|     174.0|       2.6736|          191300.0|\n",
            "|  -122.26|   37.85|              52.0|     2643.0|         626.0|    1212.0|     620.0|       1.9167|          159200.0|\n",
            "|  -122.26|   37.85|              50.0|     1120.0|         283.0|     697.0|     264.0|        2.125|          140000.0|\n",
            "|  -122.27|   37.85|              52.0|     1966.0|         347.0|     793.0|     331.0|        2.775|          152500.0|\n",
            "|  -122.27|   37.85|              52.0|     1228.0|         293.0|     648.0|     303.0|       2.1202|          155500.0|\n",
            "|  -122.26|   37.84|              50.0|     2239.0|         455.0|     990.0|     419.0|       1.9911|          158700.0|\n",
            "|  -122.27|   37.84|              52.0|     1503.0|         298.0|     690.0|     275.0|       2.6033|          162900.0|\n",
            "+---------+--------+------------------+-----------+--------------+----------+----------+-------------+------------------+\n",
            "only showing top 20 rows\n",
            "\n"
          ]
        }
      ],
      "source": [
        "### Create a new DataFrame where the ocean proximity column has been dropped.\n",
        "# col, .drop\n",
        "Ocean_col= col('ocean_proximity')\n",
        "Newdfs= housingdf.drop(Ocean_col).show()"
      ]
    },
    {
      "cell_type": "code",
      "execution_count": null,
      "metadata": {
        "id": "0YoZ_pkrZ-Ai"
      },
      "outputs": [],
      "source": [
        "### Create a DataFrame which includes a new column for population per household,\n",
        "### sort by that column, and rename 'ocean_proximity' to 'location'\n",
        "# col, .withColumn, .withColumnRenamed, .sort/.orderBy"
      ]
    },
    {
      "cell_type": "code",
      "execution_count": null,
      "metadata": {
        "id": "G68MJq9DctuR"
      },
      "outputs": [],
      "source": [
        "### Create a DataFrame with the null values in total_bedrooms removed\n",
        "# col, .isNotNull, .where/.filter"
      ]
    },
    {
      "cell_type": "code",
      "execution_count": null,
      "metadata": {
        "id": "Qa212n1mdAW_"
      },
      "outputs": [],
      "source": [
        "### Using the collect method to return the listed values of a column, create a\n",
        "### scatter plot in matplotlib with 'longitude' vs 'latitude', coloured by the\n",
        "### 'median_house_value'. Include appropriate axis labels, and a labelled\n",
        "### colour bar.\n",
        "# .select, .collect, .scatter, .colorbar\n",
        "import matplotlib.pyplot as plt\n",
        "\n",
        "longitude = usersDF.select(col('longitude')).collect()\n",
        "latitude = []\n",
        "house_value = []"
      ]
    }
  ],
  "metadata": {
    "colab": {
      "provenance": [],
      "include_colab_link": true
    },
    "kernelspec": {
      "display_name": "Python 3",
      "name": "python3"
    },
    "language_info": {
      "name": "python"
    }
  },
  "nbformat": 4,
  "nbformat_minor": 0
}